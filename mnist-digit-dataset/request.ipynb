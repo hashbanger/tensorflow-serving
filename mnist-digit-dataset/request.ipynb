{
 "cells": [
  {
   "cell_type": "markdown",
   "source": "### Hitting a request to the served model\nBefore running this, \n- Create and save the model using `mnist-vanilla-cnn.ipynb`.  \n- Get the container up serving the model using the command available in `serving_commands.txt`.  \n- Run the cell below to post a inference request to the served model.",
   "metadata": {
    "cell_id": "00000-d86dbc72-d6cc-4ff4-95d1-b5b4050dba7a",
    "deepnote_app_coordinates": {
     "x": 0,
     "y": 0,
     "w": 24,
     "h": 5
    },
    "deepnote_cell_type": "markdown"
   }
  },
  {
   "cell_type": "code",
   "metadata": {
    "cell_id": "00001-f38796a2-d90c-4a1b-966a-6d97f0932298",
    "deepnote_app_coordinates": {
     "x": 0,
     "y": 6,
     "w": 24,
     "h": 5
    },
    "deepnote_cell_type": "code"
   },
   "source": "import os\nimport json\nimport requests\nimport numpy as np\nimport tensorflow as tf\nimport matplotlib.pyplot as plt",
   "execution_count": 9,
   "outputs": []
  },
  {
   "cell_type": "code",
   "metadata": {
    "cell_id": "00002-c00c8504-8d78-4a21-85a3-6276aca1905a",
    "deepnote_app_coordinates": {
     "x": 0,
     "y": 12,
     "w": 24,
     "h": 5
    },
    "deepnote_cell_type": "code"
   },
   "source": "(_, _), (x_test, y_test) = tf.keras.datasets.mnist.load_data()\nx_test = x_test[..., np.newaxis]/255.0",
   "execution_count": 2,
   "outputs": []
  },
  {
   "cell_type": "code",
   "metadata": {
    "cell_id": "00003-ebe11862-994f-4955-97b6-df2e295d142c",
    "deepnote_app_coordinates": {
     "x": 0,
     "y": 18,
     "w": 24,
     "h": 5
    },
    "deepnote_cell_type": "code"
   },
   "source": "# picking up a random image from the test set for prediction\nIMG_NUM = np.random.randint(0, len(x_test))\njson_data = json.dumps({\"signature_name\": \"serving_default\", \"instances\": x_test[[IMG_NUM]].tolist()})",
   "execution_count": 36,
   "outputs": []
  },
  {
   "cell_type": "code",
   "metadata": {
    "cell_id": "00004-5801228f-2757-423b-8e38-36c6f46baf3a",
    "deepnote_app_coordinates": {
     "x": 0,
     "y": 24,
     "w": 24,
     "h": 5
    },
    "deepnote_cell_type": "code"
   },
   "source": "headers = {\"content-type\": \"application/json\"}\njson_response = requests.post('http://localhost:8501/v1/models/mnist_digit:predict', data=json_data, headers=headers)\n\npredictions = json.loads(json_response.text)['predictions']\npredictions = np.array(predictions).argmax()\n\nprint('The predicted result is ',predictions)",
   "execution_count": 38,
   "outputs": [
    {
     "name": "stdout",
     "output_type": "stream",
     "text": "The predicted result is  9\n"
    }
   ]
  },
  {
   "cell_type": "code",
   "metadata": {
    "cell_id": "00005-7578a36c-055e-4ca9-af4a-42701417a20a",
    "deepnote_app_coordinates": {
     "x": 0,
     "y": 30,
     "w": 24,
     "h": 5
    },
    "deepnote_cell_type": "code"
   },
   "source": "print('True Label: ',y_test[IMG_NUM])\nprint('Predicted Label: ',predictions)\nplt.imshow(x_test[IMG_NUM].reshape(28,28), cmap = 'gray');",
   "execution_count": 39,
   "outputs": [
    {
     "name": "stdout",
     "output_type": "stream",
     "text": "True Label:  9\nPredicted Label:  9\n"
    },
    {
     "data": {
      "image/png": "[encoded data removed]",
      "text/plain": "<Figure size 432x288 with 1 Axes>"
     },
     "metadata": {
      "needs_background": "light",
      "image/png": {
       "width": 251,
       "height": 248
      }
     },
     "output_type": "display_data"
    }
   ]
  },
  {
   "cell_type": "markdown",
   "source": "We can post multiple requests as well.  \nLet's try with 5 images.",
   "metadata": {
    "cell_id": "00006-a762dcd4-0e88-4397-a1aa-9865268e4d16",
    "deepnote_app_coordinates": {
     "x": 0,
     "y": 36,
     "w": 24,
     "h": 5
    },
    "deepnote_cell_type": "markdown"
   }
  },
  {
   "cell_type": "code",
   "metadata": {
    "cell_id": "00007-c3879da7-a975-4bae-b932-bfaeb4bf821b",
    "deepnote_app_coordinates": {
     "x": 0,
     "y": 42,
     "w": 24,
     "h": 5
    },
    "deepnote_cell_type": "code"
   },
   "source": "# picking up a random image from the test set for prediction\nIMG_NUM = np.random.randint(0, len(x_test), 5)\njson_data = json.dumps({\"signature_name\": \"serving_default\", \"instances\": x_test[[IMG_NUM]].tolist()})",
   "execution_count": 49,
   "outputs": [
    {
     "name": "stderr",
     "output_type": "stream",
     "text": "/home/prashant/anaconda3/lib/python3.7/site-packages/ipykernel_launcher.py:3: FutureWarning: Using a non-tuple sequence for multidimensional indexing is deprecated; use `arr[tuple(seq)]` instead of `arr[seq]`. In the future this will be interpreted as an array index, `arr[np.array(seq)]`, which will result either in an error or a different result.\n  This is separate from the ipykernel package so we can avoid doing imports until\n"
    }
   ]
  },
  {
   "cell_type": "code",
   "metadata": {
    "cell_id": "00008-92cd2c8a-a98f-4160-80a2-9bd035ed6f60",
    "deepnote_app_coordinates": {
     "x": 0,
     "y": 48,
     "w": 24,
     "h": 5
    },
    "deepnote_cell_type": "code"
   },
   "source": "for idx in IMG_NUM:\n    label = y_test[idx]\n    print('The label is ', label)",
   "execution_count": 59,
   "outputs": [
    {
     "name": "stdout",
     "output_type": "stream",
     "text": "The label is  3\nThe label is  9\nThe label is  4\nThe label is  9\nThe label is  0\n"
    }
   ]
  },
  {
   "cell_type": "code",
   "metadata": {
    "cell_id": "00009-8ee96293-903f-4309-b17f-f316b111ce29",
    "deepnote_app_coordinates": {
     "x": 0,
     "y": 54,
     "w": 24,
     "h": 5
    },
    "deepnote_cell_type": "code"
   },
   "source": "headers = {\"content-type\": \"application/json\"}\njson_response = requests.post('http://localhost:8501/v1/models/mnist_digit:predict', data=json_data, headers=headers)\n\npredictions = json.loads(json_response.text)['predictions']\nfor pred in predictions:\n    prediction = np.array(pred).argmax()\n    print('The predicted result is ', prediction)",
   "execution_count": 60,
   "outputs": [
    {
     "name": "stdout",
     "output_type": "stream",
     "text": "The predicted result is  3\nThe predicted result is  9\nThe predicted result is  4\nThe predicted result is  9\nThe predicted result is  0\n"
    }
   ]
  },
  {
   "cell_type": "markdown",
   "source": "We can see that we are able to get it right with multiple predictions as well!",
   "metadata": {
    "cell_id": "00010-c6b4ea57-8235-40ab-a869-4992d41ef30d",
    "deepnote_app_coordinates": {
     "x": 0,
     "y": 60,
     "w": 24,
     "h": 5
    },
    "deepnote_cell_type": "markdown"
   }
  },
  {
   "cell_type": "markdown",
   "source": "<a style='text-decoration:none;line-height:16px;display:flex;color:#5B5B62;padding:10px;justify-content:end;' href='https://deepnote.com?utm_source=created-in-deepnote-cell&projectId=689f26ff-13bf-4496-9e46-e7b1ce7968de' target=\"_blank\">\n<img alt='Created in deepnote.com' style='display:inline;max-height:16px;margin:0px;margin-right:7.5px;' src='data:image/svg+xml;base64,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' > </img>\nCreated in <span style='font-weight:600;margin-left:4px;'>Deepnote</span></a>",
   "metadata": {
    "tags": [],
    "created_in_deepnote_cell": true,
    "deepnote_cell_type": "markdown"
   }
  }
 ],
 "nbformat": 4,
 "nbformat_minor": 4,
 "metadata": {
  "kernelspec": {
   "display_name": "Python 3.7.6 64-bit ('base': conda)",
   "language": "python",
   "name": "python376jvsc74a57bd05d638a7628cf7ca3de193d4112836a4f34d28eb3284549510cc26ae3985b3870"
  },
  "language_info": {
   "codemirror_mode": {
    "name": "ipython",
    "version": 3
   },
   "file_extension": ".py",
   "mimetype": "text/x-python",
   "name": "python",
   "nbconvert_exporter": "python",
   "pygments_lexer": "ipython3",
   "version": "3.7.6"
  },
  "deepnote_notebook_id": "524580cc-a979-4b6b-b047-ea4882bbfec3",
  "deepnote": {},
  "deepnote_app_layout": "article",
  "deepnote_execution_queue": []
 }
}
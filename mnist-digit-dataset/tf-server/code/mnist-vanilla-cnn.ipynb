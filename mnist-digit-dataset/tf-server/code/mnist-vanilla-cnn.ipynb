{
 "cells": [
  {
   "cell_type": "markdown",
   "source": "# MNIST with Tensorflow Serving",
   "metadata": {
    "cell_id": "00000-b6c64383-9093-472e-a322-e01707f81f62",
    "deepnote_cell_type": "markdown"
   }
  },
  {
   "cell_type": "markdown",
   "source": "Let's train a model first",
   "metadata": {
    "cell_id": "00001-c36f1657-b40e-4a55-98d7-3da46adedb12",
    "deepnote_cell_type": "markdown"
   }
  },
  {
   "cell_type": "code",
   "metadata": {
    "cell_id": "00002-13f31330-2f01-474a-bbf7-56a6277b94e3",
    "deepnote_cell_type": "code"
   },
   "source": "# !pip install tensorflow==2.3.0\n# !pip install keras==2.4.3\n# !pip install pydot==1.4.2\n\nimport os\nimport numpy as np\nimport pandas as pd\nimport tensorflow as tf\nfrom tensorflow.keras import (Input, Model, layers, metrics, utils, models)",
   "execution_count": 1,
   "outputs": []
  },
  {
   "cell_type": "code",
   "metadata": {
    "cell_id": "00003-ea2269ab-2ebc-4d87-96b6-62039fd546a4",
    "deepnote_cell_type": "code"
   },
   "source": "(x_train, y_train), (x_test, y_test) = tf.keras.datasets.mnist.load_data()\n\n# Rescale the images from [0,255] to the [0.0,1.0] range.\nx_train, x_test = x_train[..., np.newaxis]/255.0, x_test[..., np.newaxis]/255.0\n\nprint(\"Number of original training examples:\", len(x_train))\nprint(\"Number of original test examples:\", len(x_test))",
   "execution_count": 2,
   "outputs": [
    {
     "name": "stdout",
     "output_type": "stream",
     "text": "Number of original training examples: 60000\nNumber of original test examples: 10000\n"
    }
   ]
  },
  {
   "cell_type": "code",
   "metadata": {
    "cell_id": "00004-f0725db1-4305-401c-ac71-f2d52798e576",
    "deepnote_cell_type": "code"
   },
   "source": "y_train = tf.keras.utils.to_categorical(y_train)\ny_test = tf.keras.utils.to_categorical(y_test)",
   "execution_count": 20,
   "outputs": []
  },
  {
   "cell_type": "code",
   "metadata": {
    "cell_id": "00005-a595cff5-5364-446b-8a60-993d1708e8ed",
    "deepnote_cell_type": "code"
   },
   "source": "def get_model(IMAGE_SHAPE):\n    \"\"\"\n    creates and returns a simple CNN model.\n    \"\"\"\n    # Define the tensors for the two input images\n    input_twin = Input(IMAGE_SHAPE)\n    x = layers.Conv2D(512, (2, 2), activation=\"relu\")(input_twin)\n    x = layers.MaxPooling2D()(x)\n    x = layers.Conv2D(256, (2, 2), activation=\"relu\")(x)\n    x = layers.MaxPooling2D()(x)\n    x = layers.Conv2D(128, (1, 1), activation=\"relu\")(x)\n    x = layers.MaxPooling2D()(x)\n    x = layers.Flatten()(x)\n    outputs = layers.Dense(10, name=\"final_dense\", activation='softmax')(x)\n    return Model(input_twin, outputs)",
   "execution_count": 22,
   "outputs": []
  },
  {
   "cell_type": "code",
   "metadata": {
    "cell_id": "00006-00536a88-3be4-4907-b990-eef50fd80ae1",
    "deepnote_cell_type": "code"
   },
   "source": "INPUT_SHAPE = (28, 28, 1)\nmodel = get_model(INPUT_SHAPE)",
   "execution_count": 25,
   "outputs": []
  },
  {
   "cell_type": "code",
   "metadata": {
    "cell_id": "00007-0e3b2172-79bc-4441-910e-d0f8337b6430",
    "deepnote_cell_type": "code"
   },
   "source": "model.summary()",
   "execution_count": 26,
   "outputs": [
    {
     "name": "stdout",
     "output_type": "stream",
     "text": "Model: \"model_2\"\n_________________________________________________________________\nLayer (type)                 Output Shape              Param #   \n=================================================================\ninput_3 (InputLayer)         [(None, 28, 28, 1)]       0         \n_________________________________________________________________\nconv2d_6 (Conv2D)            (None, 27, 27, 512)       2560      \n_________________________________________________________________\nmax_pooling2d_6 (MaxPooling2 (None, 13, 13, 512)       0         \n_________________________________________________________________\nconv2d_7 (Conv2D)            (None, 12, 12, 256)       524544    \n_________________________________________________________________\nmax_pooling2d_7 (MaxPooling2 (None, 6, 6, 256)         0         \n_________________________________________________________________\nconv2d_8 (Conv2D)            (None, 6, 6, 128)         32896     \n_________________________________________________________________\nmax_pooling2d_8 (MaxPooling2 (None, 3, 3, 128)         0         \n_________________________________________________________________\nflatten_2 (Flatten)          (None, 1152)              0         \n_________________________________________________________________\nfinal_dense (Dense)          (None, 10)                11530     \n=================================================================\nTotal params: 571,530\nTrainable params: 571,530\nNon-trainable params: 0\n_________________________________________________________________\n"
    }
   ]
  },
  {
   "cell_type": "code",
   "metadata": {
    "cell_id": "00008-1dd97a5c-2a1a-4440-9c5d-2c69b3a9d31d",
    "deepnote_cell_type": "code"
   },
   "source": "_learning_rate = 1e-3\nmodel.compile(optimizer = tf.keras.optimizers.Adam(_learning_rate), \n              loss = tf.keras.losses.categorical_crossentropy, \n              metrics = ['accuracy'])",
   "execution_count": 27,
   "outputs": []
  },
  {
   "cell_type": "code",
   "metadata": {
    "cell_id": "00009-c9e7a876-85a7-4ce6-b3dc-d8a7ea6ef8f2",
    "deepnote_cell_type": "code"
   },
   "source": "model.fit(x_train, y_train, validation_split=0.3, epochs = 5)",
   "execution_count": 13,
   "outputs": [
    {
     "name": "stdout",
     "output_type": "stream",
     "text": "Epoch 1/5\n1313/1313 [==============================] - 307s 234ms/step - loss: 0.2168 - accuracy: 0.9315 - val_loss: 0.0945 - val_accuracy: 0.9689\nEpoch 2/5\n1313/1313 [==============================] - 318s 243ms/step - loss: 0.0800 - accuracy: 0.9738 - val_loss: 0.0685 - val_accuracy: 0.9783\nEpoch 3/5\n1313/1313 [==============================] - 299s 228ms/step - loss: 0.0619 - accuracy: 0.9804 - val_loss: 0.0619 - val_accuracy: 0.9799\nEpoch 4/5\n1313/1313 [==============================] - 281s 214ms/step - loss: 0.0492 - accuracy: 0.9840 - val_loss: 0.0592 - val_accuracy: 0.9817\nEpoch 5/5\n1313/1313 [==============================] - 313s 238ms/step - loss: 0.0401 - accuracy: 0.9866 - val_loss: 0.0534 - val_accuracy: 0.9838\n"
    },
    {
     "data": {
      "text/plain": "<tensorflow.python.keras.callbacks.History at 0x7f68ab7b3a90>"
     },
     "execution_count": 13,
     "metadata": {},
     "output_type": "execute_result"
    }
   ]
  },
  {
   "cell_type": "code",
   "metadata": {
    "cell_id": "00010-2d2a5d6c-14f6-417c-bc10-059d35518bbd",
    "deepnote_cell_type": "code"
   },
   "source": "model.evaluate(x_test, y_test)",
   "execution_count": 22,
   "outputs": [
    {
     "name": "stdout",
     "output_type": "stream",
     "text": "313/313 [==============================] - 20s 62ms/step - loss: 0.0471 - accuracy: 0.9850\n"
    },
    {
     "data": {
      "text/plain": "[0.04712369292974472, 0.9850000143051147]"
     },
     "execution_count": 22,
     "metadata": {},
     "output_type": "execute_result"
    }
   ]
  },
  {
   "cell_type": "code",
   "metadata": {
    "cell_id": "00011-cf83e8e7-f700-4408-a62e-6b22c0e2dd97",
    "deepnote_cell_type": "code"
   },
   "source": "SAVE_PATH = 'serving'\nVERSION = '1'\nmodel.save(os.path.join(SAVE_PATH, VERSION))",
   "execution_count": 3,
   "outputs": []
  },
  {
   "cell_type": "markdown",
   "source": "The model has been trained and saved successfully!",
   "metadata": {
    "cell_id": "00012-60c4da16-88a7-4ffb-ae36-62f1386938dc",
    "deepnote_cell_type": "markdown"
   }
  },
  {
   "cell_type": "markdown",
   "source": "<a style='text-decoration:none;line-height:16px;display:flex;color:#5B5B62;padding:10px;justify-content:end;' href='https://deepnote.com?utm_source=created-in-deepnote-cell&projectId=689f26ff-13bf-4496-9e46-e7b1ce7968de' target=\"_blank\">\n<img alt='Created in deepnote.com' style='display:inline;max-height:16px;margin:0px;margin-right:7.5px;' src='data:image/svg+xml;base64,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' > </img>\nCreated in <span style='font-weight:600;margin-left:4px;'>Deepnote</span></a>",
   "metadata": {
    "tags": [],
    "created_in_deepnote_cell": true,
    "deepnote_cell_type": "markdown"
   }
  }
 ],
 "nbformat": 4,
 "nbformat_minor": 4,
 "metadata": {
  "interpreter": {
   "hash": "5d638a7628cf7ca3de193d4112836a4f34d28eb3284549510cc26ae3985b3870"
  },
  "kernelspec": {
   "display_name": "Python 3",
   "language": "python",
   "name": "python3"
  },
  "language_info": {
   "codemirror_mode": {
    "name": "ipython",
    "version": 3
   },
   "file_extension": ".py",
   "mimetype": "text/x-python",
   "name": "python",
   "nbconvert_exporter": "python",
   "pygments_lexer": "ipython3",
   "version": "3.7.6"
  },
  "deepnote_notebook_id": "0784003a-fbd2-4ded-8069-f3cc92678279",
  "deepnote": {},
  "deepnote_execution_queue": []
 }
}
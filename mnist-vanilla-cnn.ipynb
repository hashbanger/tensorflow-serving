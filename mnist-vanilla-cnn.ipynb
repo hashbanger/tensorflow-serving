{
 "cells": [
  {
   "cell_type": "markdown",
   "source": "# MNIST with Tensorflow Serving",
   "metadata": {
    "cell_id": "00000-ee2254a3-7d39-47ef-a6d8-33061b578b45",
    "deepnote_cell_type": "markdown"
   }
  },
  {
   "cell_type": "markdown",
   "source": "Let's train a model first",
   "metadata": {
    "cell_id": "00001-16186677-c460-4fa5-a41d-0b7ef9de7bf7",
    "deepnote_cell_type": "markdown"
   }
  },
  {
   "cell_type": "code",
   "metadata": {
    "cell_id": "00002-d9c65c4c-b959-41ac-9748-e483ea6608d2",
    "deepnote_to_be_reexecuted": false,
    "source_hash": "bfe50939",
    "execution_start": 1629007630258,
    "execution_millis": 5807,
    "deepnote_cell_type": "code"
   },
   "source": "# !pip install tensorflow==2.3.0\n# !pip install keras==2.4.3\n# !pip install pydot==1.4.2\n\nimport os\nimport numpy as np\nimport pandas as pd\nimport tensorflow as tf\nfrom tensorflow.keras import (Input, Model, layers, metrics, utils, models)",
   "execution_count": 1,
   "outputs": [
    {
     "name": "stderr",
     "text": "2021-08-15 06:07:10.737621: W tensorflow/stream_executor/platform/default/dso_loader.cc:60] Could not load dynamic library 'libcudart.so.11.0'; dlerror: libcudart.so.11.0: cannot open shared object file: No such file or directory\n2021-08-15 06:07:10.737671: I tensorflow/stream_executor/cuda/cudart_stub.cc:29] Ignore above cudart dlerror if you do not have a GPU set up on your machine.\n",
     "output_type": "stream"
    }
   ]
  },
  {
   "cell_type": "code",
   "metadata": {
    "cell_id": "00003-1b8f1555-db2b-44c2-b216-5370a4b66968",
    "deepnote_to_be_reexecuted": false,
    "source_hash": "aaee380d",
    "execution_start": 1629008352388,
    "execution_millis": 691,
    "deepnote_cell_type": "code"
   },
   "source": "(x_train, y_train), (x_test, y_test) = tf.keras.datasets.mnist.load_data()\n\n# Rescale the images from [0,255] to the [0.0,1.0] range.\nx_train, x_test = x_train[..., np.newaxis]/255.0, x_test[..., np.newaxis]/255.0\n\nprint(\"Number of original training examples:\", len(x_train))\nprint(\"Number of original test examples:\", len(x_test))",
   "execution_count": 22,
   "outputs": [
    {
     "name": "stdout",
     "text": "Downloading data from https://storage.googleapis.com/tensorflow/tf-keras-datasets/mnist.npz\n11493376/11490434 [==============================] - 0s 0us/step\nNumber of original training examples: 60000\nNumber of original test examples: 10000\n",
     "output_type": "stream"
    }
   ]
  },
  {
   "cell_type": "code",
   "metadata": {
    "cell_id": "00004-e3a67ce5-c8c3-4eed-9599-0d2fc0e1cd86",
    "deepnote_to_be_reexecuted": false,
    "source_hash": "f9ae749c",
    "execution_start": 1629008355625,
    "execution_millis": 2,
    "deepnote_cell_type": "code"
   },
   "source": "y_train = tf.keras.utils.to_categorical(y_train)\ny_test = tf.keras.utils.to_categorical(y_test)",
   "execution_count": 23,
   "outputs": []
  },
  {
   "cell_type": "code",
   "metadata": {
    "cell_id": "00005-77b2487f-e5cf-47b5-b94b-cf95d435c575",
    "deepnote_cell_type": "code"
   },
   "source": "def get_model(IMAGE_SHAPE):\n    \"\"\"\n    creates and returns a simple CNN model.\n    \"\"\"\n    # Define the tensors for the two input images\n    input_twin = Input(IMAGE_SHAPE)\n    x = layers.Conv2D(512, (2, 2), activation=\"relu\")(input_twin)\n    x = layers.MaxPooling2D()(x)\n    x = layers.Conv2D(256, (2, 2), activation=\"relu\")(x)\n    x = layers.MaxPooling2D()(x)\n    x = layers.Conv2D(128, (1, 1), activation=\"relu\")(x)\n    x = layers.MaxPooling2D()(x)\n    x = layers.Flatten()(x)\n    outputs = layers.Dense(10, name=\"final_dense\", activation='softmax')(x)\n    return Model(input_twin, outputs)",
   "execution_count": 22,
   "outputs": []
  },
  {
   "cell_type": "code",
   "metadata": {
    "cell_id": "00006-fd584aa5-a9fe-4570-b34d-c9ac2b8e79bb",
    "deepnote_cell_type": "code"
   },
   "source": "INPUT_SHAPE = (28, 28, 1)\nmodel = get_model(INPUT_SHAPE)",
   "execution_count": 25,
   "outputs": []
  },
  {
   "cell_type": "code",
   "metadata": {
    "cell_id": "00007-3ab5c146-d532-49b7-98d9-090a7779bb95",
    "deepnote_cell_type": "code"
   },
   "source": "model.summary()",
   "execution_count": 26,
   "outputs": [
    {
     "name": "stdout",
     "output_type": "stream",
     "text": "Model: \"model_2\"\n_________________________________________________________________\nLayer (type)                 Output Shape              Param #   \n=================================================================\ninput_3 (InputLayer)         [(None, 28, 28, 1)]       0         \n_________________________________________________________________\nconv2d_6 (Conv2D)            (None, 27, 27, 512)       2560      \n_________________________________________________________________\nmax_pooling2d_6 (MaxPooling2 (None, 13, 13, 512)       0         \n_________________________________________________________________\nconv2d_7 (Conv2D)            (None, 12, 12, 256)       524544    \n_________________________________________________________________\nmax_pooling2d_7 (MaxPooling2 (None, 6, 6, 256)         0         \n_________________________________________________________________\nconv2d_8 (Conv2D)            (None, 6, 6, 128)         32896     \n_________________________________________________________________\nmax_pooling2d_8 (MaxPooling2 (None, 3, 3, 128)         0         \n_________________________________________________________________\nflatten_2 (Flatten)          (None, 1152)              0         \n_________________________________________________________________\nfinal_dense (Dense)          (None, 10)                11530     \n=================================================================\nTotal params: 571,530\nTrainable params: 571,530\nNon-trainable params: 0\n_________________________________________________________________\n"
    }
   ]
  },
  {
   "cell_type": "code",
   "metadata": {
    "cell_id": "00008-3c728258-e995-4310-b03d-604b3a63f63f",
    "deepnote_cell_type": "code"
   },
   "source": "_learning_rate = 1e-3\nmodel.compile(optimizer = tf.keras.optimizers.Adam(_learning_rate), \n              loss = tf.keras.losses.categorical_crossentropy, \n              metrics = ['accuracy'])",
   "execution_count": 27,
   "outputs": []
  },
  {
   "cell_type": "code",
   "metadata": {
    "cell_id": "00009-e4a907a0-5cea-4e24-9b2f-e6a08ac65463",
    "deepnote_cell_type": "code"
   },
   "source": "model.fit(x_train, y_train, validation_split=0.3, epochs = 5)",
   "execution_count": 13,
   "outputs": [
    {
     "name": "stdout",
     "output_type": "stream",
     "text": "Epoch 1/5\n1313/1313 [==============================] - 307s 234ms/step - loss: 0.2168 - accuracy: 0.9315 - val_loss: 0.0945 - val_accuracy: 0.9689\nEpoch 2/5\n1313/1313 [==============================] - 318s 243ms/step - loss: 0.0800 - accuracy: 0.9738 - val_loss: 0.0685 - val_accuracy: 0.9783\nEpoch 3/5\n1313/1313 [==============================] - 299s 228ms/step - loss: 0.0619 - accuracy: 0.9804 - val_loss: 0.0619 - val_accuracy: 0.9799\nEpoch 4/5\n1313/1313 [==============================] - 281s 214ms/step - loss: 0.0492 - accuracy: 0.9840 - val_loss: 0.0592 - val_accuracy: 0.9817\nEpoch 5/5\n1313/1313 [==============================] - 313s 238ms/step - loss: 0.0401 - accuracy: 0.9866 - val_loss: 0.0534 - val_accuracy: 0.9838\n"
    },
    {
     "data": {
      "text/plain": "<tensorflow.python.keras.callbacks.History at 0x7f68ab7b3a90>"
     },
     "execution_count": 13,
     "metadata": {},
     "output_type": "execute_result"
    }
   ]
  },
  {
   "cell_type": "code",
   "metadata": {
    "cell_id": "00010-2519aba1-21c5-4c43-8199-ba01bfbe1017",
    "deepnote_cell_type": "code"
   },
   "source": "model.evaluate(x_test, y_test)",
   "execution_count": 22,
   "outputs": [
    {
     "name": "stdout",
     "output_type": "stream",
     "text": "313/313 [==============================] - 20s 62ms/step - loss: 0.0471 - accuracy: 0.9850\n"
    },
    {
     "data": {
      "text/plain": "[0.04712369292974472, 0.9850000143051147]"
     },
     "execution_count": 22,
     "metadata": {},
     "output_type": "execute_result"
    }
   ]
  },
  {
   "cell_type": "code",
   "source": "model = models.load_model('serving/1')",
   "metadata": {
    "tags": [],
    "cell_id": "00011-dad2cdc1-52b7-45b0-b28b-80606e9efea4",
    "deepnote_to_be_reexecuted": false,
    "source_hash": "af8cc00b",
    "execution_start": 1629007666053,
    "execution_millis": 708,
    "deepnote_cell_type": "code"
   },
   "outputs": [
    {
     "name": "stderr",
     "text": "2021-08-15 06:07:46.049676: I tensorflow/compiler/jit/xla_cpu_device.cc:41] Not creating XLA devices, tf_xla_enable_xla_devices not set\n2021-08-15 06:07:46.052899: W tensorflow/stream_executor/platform/default/dso_loader.cc:60] Could not load dynamic library 'libcuda.so.1'; dlerror: libcuda.so.1: cannot open shared object file: No such file or directory\n2021-08-15 06:07:46.052921: W tensorflow/stream_executor/cuda/cuda_driver.cc:326] failed call to cuInit: UNKNOWN ERROR (303)\n2021-08-15 06:07:46.052944: I tensorflow/stream_executor/cuda/cuda_diagnostics.cc:156] kernel driver does not appear to be running on this host (p-689f26ff-13bf-4496-9e46-e7b1ce7968de): /proc/driver/nvidia/version does not exist\n2021-08-15 06:07:46.053195: I tensorflow/core/platform/cpu_feature_guard.cc:142] This TensorFlow binary is optimized with oneAPI Deep Neural Network Library (oneDNN) to use the following CPU instructions in performance-critical operations:  AVX2 AVX512F FMA\nTo enable them in other operations, rebuild TensorFlow with the appropriate compiler flags.\n2021-08-15 06:07:46.053374: I tensorflow/compiler/jit/xla_gpu_device.cc:99] Not creating XLA devices, tf_xla_enable_xla_devices not set\n",
     "output_type": "stream"
    }
   ],
   "execution_count": 2
  },
  {
   "cell_type": "markdown",
   "source": "Creating an export path with the model version",
   "metadata": {
    "cell_id": "00011-ed4f4424-565c-4f0d-a2d3-94bc8b42b863",
    "deepnote_cell_type": "markdown"
   }
  },
  {
   "cell_type": "code",
   "metadata": {
    "cell_id": "00012-9119669a-4ad0-4c7c-953a-9c2340874123",
    "deepnote_to_be_reexecuted": false,
    "source_hash": "cdb5f718",
    "execution_start": 1629008755772,
    "execution_millis": 6,
    "deepnote_cell_type": "code"
   },
   "source": "VERSION = 1\nBASE_PATH = os.path.join(os.getcwd(),\"serving\")\nEXPORT_PATH = os.path.join(BASE_PATH, str(VERSION))\nprint(EXPORT_PATH)",
   "execution_count": 40,
   "outputs": [
    {
     "name": "stdout",
     "text": "/work/tensorflow-serving/serving/1\n",
     "output_type": "stream"
    }
   ]
  },
  {
   "cell_type": "code",
   "metadata": {
    "cell_id": "00013-ce181ebc-a439-4e7a-b169-584fee908e56",
    "deepnote_cell_type": "code"
   },
   "source": "models.save_model(model, \n                  filepath= EXPORT_PATH, \n                  include_optimizer= True)",
   "execution_count": 31,
   "outputs": [
    {
     "name": "stdout",
     "output_type": "stream",
     "text": "INFO:tensorflow:Assets written to: serving/1/assets\n"
    }
   ]
  },
  {
   "cell_type": "markdown",
   "source": "Getting the model information",
   "metadata": {
    "cell_id": "00014-dca5fac9-45c6-43f2-a0dd-12c8a7c0d3fa",
    "deepnote_cell_type": "markdown"
   }
  },
  {
   "cell_type": "code",
   "metadata": {
    "cell_id": "00015-189052bc-39e1-4864-b897-d38dc423e25a",
    "deepnote_to_be_reexecuted": false,
    "source_hash": "e7fa3e1c",
    "execution_start": 1629007684028,
    "execution_millis": 7636,
    "deepnote_cell_type": "code"
   },
   "source": "!saved_model_cli show --dir {EXPORT_PATH} --all",
   "execution_count": 4,
   "outputs": [
    {
     "name": "stdout",
     "text": "2021-08-15 06:08:05.093730: W tensorflow/stream_executor/platform/default/dso_loader.cc:60] Could not load dynamic library 'libcudart.so.11.0'; dlerror: libcudart.so.11.0: cannot open shared object file: No such file or directory\n2021-08-15 06:08:05.099758: I tensorflow/stream_executor/cuda/cudart_stub.cc:29] Ignore above cudart dlerror if you do not have a GPU set up on your machine.\n\nMetaGraphDef with tag-set: 'serve' contains the following SignatureDefs:\n\nsignature_def['__saved_model_init_op']:\n  The given SavedModel SignatureDef contains the following input(s):\n  The given SavedModel SignatureDef contains the following output(s):\n    outputs['__saved_model_init_op'] tensor_info:\n        dtype: DT_INVALID\n        shape: unknown_rank\n        name: NoOp\n  Method name is: \n\nsignature_def['serving_default']:\n  The given SavedModel SignatureDef contains the following input(s):\n    inputs['input_2'] tensor_info:\n        dtype: DT_FLOAT\n        shape: (-1, 28, 28, 1)\n        name: serving_default_input_2:0\n  The given SavedModel SignatureDef contains the following output(s):\n    outputs['final_dense'] tensor_info:\n        dtype: DT_FLOAT\n        shape: (-1, 10)\n        name: StatefulPartitionedCall:0\n  Method name is: tensorflow/serving/predict\n\nDefined Functions:\n  Function Name: '__call__'\n    Option #1\n      Callable with:\n        Argument #1\n          inputs: TensorSpec(shape=(None, 28, 28, 1), dtype=tf.float32, name='inputs')\n        Argument #2\n          DType: bool\n          Value: False\n        Argument #3\n          DType: NoneType\n          Value: None\n    Option #2\n      Callable with:\n        Argument #1\n          input_2: TensorSpec(shape=(None, 28, 28, 1), dtype=tf.float32, name='input_2')\n        Argument #2\n          DType: bool\n          Value: False\n        Argument #3\n          DType: NoneType\n          Value: None\n    Option #3\n      Callable with:\n        Argument #1\n          inputs: TensorSpec(shape=(None, 28, 28, 1), dtype=tf.float32, name='inputs')\n        Argument #2\n          DType: bool\n          Value: True\n        Argument #3\n          DType: NoneType\n          Value: None\n    Option #4\n      Callable with:\n        Argument #1\n          input_2: TensorSpec(shape=(None, 28, 28, 1), dtype=tf.float32, name='input_2')\n        Argument #2\n          DType: bool\n          Value: True\n        Argument #3\n          DType: NoneType\n          Value: None\n\n  Function Name: '_default_save_signature'\n    Option #1\n      Callable with:\n        Argument #1\n          input_2: TensorSpec(shape=(None, 28, 28, 1), dtype=tf.float32, name='input_2')\n\n  Function Name: 'call_and_return_all_conditional_losses'\n    Option #1\n      Callable with:\n        Argument #1\n          inputs: TensorSpec(shape=(None, 28, 28, 1), dtype=tf.float32, name='inputs')\n        Argument #2\n          DType: bool\n          Value: True\n        Argument #3\n          DType: NoneType\n          Value: None\n    Option #2\n      Callable with:\n        Argument #1\n          input_2: TensorSpec(shape=(None, 28, 28, 1), dtype=tf.float32, name='input_2')\n        Argument #2\n          DType: bool\n          Value: True\n        Argument #3\n          DType: NoneType\n          Value: None\n    Option #3\n      Callable with:\n        Argument #1\n          input_2: TensorSpec(shape=(None, 28, 28, 1), dtype=tf.float32, name='input_2')\n        Argument #2\n          DType: bool\n          Value: False\n        Argument #3\n          DType: NoneType\n          Value: None\n    Option #4\n      Callable with:\n        Argument #1\n          inputs: TensorSpec(shape=(None, 28, 28, 1), dtype=tf.float32, name='inputs')\n        Argument #2\n          DType: bool\n          Value: False\n        Argument #3\n          DType: NoneType\n          Value: None\n",
     "output_type": "stream"
    }
   ]
  },
  {
   "cell_type": "markdown",
   "source": "Installing tensorflow-model-server",
   "metadata": {
    "cell_id": "00016-c7d0154b-e32f-4f2e-a548-15769281aaf8",
    "deepnote_cell_type": "markdown"
   }
  },
  {
   "cell_type": "code",
   "metadata": {
    "cell_id": "00017-328d5453-6519-4211-b34e-18b44fd7b021",
    "deepnote_to_be_reexecuted": false,
    "source_hash": "54ea5efa",
    "execution_start": 1629007705103,
    "execution_millis": 5,
    "deepnote_cell_type": "code"
   },
   "source": "SUDO_IF_NEEDED=\"\"",
   "execution_count": 5,
   "outputs": []
  },
  {
   "cell_type": "code",
   "metadata": {
    "cell_id": "00018-0d884a3c-af20-41a7-a7fd-5487ea76db54",
    "deepnote_to_be_reexecuted": false,
    "source_hash": "59f5dd82",
    "execution_start": 1629007706362,
    "execution_millis": 11,
    "deepnote_cell_type": "code"
   },
   "source": "print(f'!echo \"deb http://storage.googleapis.com/tensorflow-serving-apt stable tensorflow-model-server tensorflow-model-server-universal\" | {SUDO_IF_NEEDED} tee /etc/apt/sources.list.d/tensorflow-serving.list && \\\ncurl https://storage.googleapis.com/tensorflow-serving-apt/tensorflow-serving.release.pub.gpg | {SUDO_IF_NEEDED} apt-key add -')",
   "execution_count": 6,
   "outputs": [
    {
     "name": "stdout",
     "text": "!echo \"deb http://storage.googleapis.com/tensorflow-serving-apt stable tensorflow-model-server tensorflow-model-server-universal\" |  tee /etc/apt/sources.list.d/tensorflow-serving.list && curl https://storage.googleapis.com/tensorflow-serving-apt/tensorflow-serving.release.pub.gpg |  apt-key add -\n",
     "output_type": "stream"
    }
   ]
  },
  {
   "cell_type": "code",
   "metadata": {
    "cell_id": "00019-bf2dab85-394a-43cb-9b85-6c8750f5bbfb",
    "deepnote_to_be_reexecuted": false,
    "source_hash": "a72c65e5",
    "execution_start": 1629007744293,
    "execution_millis": 2682,
    "deepnote_cell_type": "code"
   },
   "source": "!echo \"deb http://storage.googleapis.com/tensorflow-serving-apt stable tensorflow-model-server tensorflow-model-server-universal\" |  tee /etc/apt/sources.list.d/tensorflow-serving.list && curl https://storage.googleapis.com/tensorflow-serving-apt/tensorflow-serving.release.pub.gpg |  apt-key add -",
   "execution_count": 7,
   "outputs": [
    {
     "name": "stdout",
     "text": "deb http://storage.googleapis.com/tensorflow-serving-apt stable tensorflow-model-server tensorflow-model-server-universal\n  % Total    % Received % Xferd  Average Speed   Time    Time     Time  Current\n                                 Dload  Upload   Total   Spent    Left  Speed\n100  2943  100  2943    0     0  35457      0 --:--:-- --:--:-- --:--:-- 35457\nOK\n",
     "output_type": "stream"
    }
   ]
  },
  {
   "cell_type": "code",
   "source": "!{SUDO_IF_NEEDED} apt update",
   "metadata": {
    "tags": [],
    "cell_id": "00021-55b192a5-cad0-45de-b8ff-5a324aa1a214",
    "deepnote_to_be_reexecuted": false,
    "source_hash": "38ed138e",
    "execution_start": 1629007841684,
    "execution_millis": 5297,
    "deepnote_cell_type": "code"
   },
   "outputs": [
    {
     "name": "stdout",
     "text": "Get:1 http://security.debian.org/debian-security buster/updates InRelease [65.4 kB]\nGet:2 http://deb.debian.org/debian buster InRelease [122 kB]\nGet:3 http://deb.debian.org/debian buster-updates InRelease [51.9 kB]\nGet:4 http://storage.googleapis.com/tensorflow-serving-apt stable InRelease [3,012 B]\nGet:5 http://security.debian.org/debian-security buster/updates/main amd64 Packages [301 kB]\nGet:6 http://deb.debian.org/debian buster/main amd64 Packages [7,907 kB]\nGet:7 http://deb.debian.org/debian buster-updates/main amd64 Packages [15.2 kB]\nGet:8 http://storage.googleapis.com/tensorflow-serving-apt stable/tensorflow-model-server amd64 Packages [340 B]\nGet:9 http://storage.googleapis.com/tensorflow-serving-apt stable/tensorflow-model-server-universal amd64 Packages [347 B]\nFetched 8,466 kB in 3s (2,759 kB/s)\n\n\n\n8 packages can be upgraded. Run 'apt list --upgradable' to see them.\n",
     "output_type": "stream"
    }
   ],
   "execution_count": 12
  },
  {
   "cell_type": "code",
   "source": "!{SUDO_IF_NEEDED} apt-get install tensorflow-model-server",
   "metadata": {
    "tags": [],
    "cell_id": "00021-06827ede-efb4-439d-b83f-0dc041360357",
    "deepnote_to_be_reexecuted": false,
    "source_hash": "ae211142",
    "execution_start": 1629007850161,
    "execution_millis": 13056,
    "deepnote_cell_type": "code"
   },
   "outputs": [
    {
     "name": "stdout",
     "text": "",
     "output_type": "stream"
    },
    {
     "name": "stdout",
     "text": "",
     "output_type": "stream"
    },
    {
     "name": "stdout",
     "text": "\n\n\nThe following NEW packages will be installed:\n  tensorflow-model-server\n0 upgraded, 1 newly installed, 0 to remove and 8 not upgraded.\nNeed to get 326 MB of archives.\nAfter this operation, 0 B of additional disk space will be used.\nGet:1 http://storage.googleapis.com/tensorflow-serving-apt stable/tensorflow-model-server amd64 tensorflow-model-server all 2.5.1 [326 MB]\nFetched 326 MB in 7s (44.0 MB/s)\ndebconf: delaying package configuration, since apt-utils is not installed\nSelecting previously unselected package tensorflow-model-server.\n(Reading database ... 31086 files and directories currently installed.)\nPreparing to unpack .../tensorflow-model-server_2.5.1_all.deb ...\nUnpacking tensorflow-model-server (2.5.1) ...\nSetting up tensorflow-model-server (2.5.1) ...\n",
     "output_type": "stream"
    }
   ],
   "execution_count": 13
  },
  {
   "cell_type": "markdown",
   "source": "Start running TensorFlow Serving\nNow we will load and model and start making REST requests.\n\n- ***rest_api_port***: The port that you'll use.\n- ***model_name***: The URL for the requests.\n- ***model_base_path***: The path to the saved model.",
   "metadata": {
    "cell_id": "00021-7add4697-83a9-4b65-819f-bb4a13290a24",
    "deepnote_cell_type": "markdown"
   }
  },
  {
   "cell_type": "code",
   "source": "print(BASE_PATH)",
   "metadata": {
    "tags": [],
    "cell_id": "00024-f0fc4568-f18f-4641-92ea-8ff99fa3c1e7",
    "deepnote_to_be_reexecuted": false,
    "source_hash": "bd591ec9",
    "execution_start": 1629008788590,
    "execution_millis": 6,
    "deepnote_cell_type": "code"
   },
   "outputs": [
    {
     "name": "stdout",
     "text": "/work/tensorflow-serving/serving\n",
     "output_type": "stream"
    }
   ],
   "execution_count": 42
  },
  {
   "cell_type": "code",
   "source": "!export EXPORT_PATH='/work/tensorflow-serving/serving'",
   "metadata": {
    "tags": [],
    "cell_id": "00024-1384bb41-df56-41c8-86a6-65d46167af4e",
    "deepnote_to_be_reexecuted": false,
    "source_hash": "4fbeb656",
    "execution_start": 1629008491057,
    "execution_millis": 599,
    "deepnote_cell_type": "code"
   },
   "outputs": [],
   "execution_count": 30
  },
  {
   "cell_type": "code",
   "metadata": {
    "cell_id": "00022-c4c36f79-5d89-4f87-a150-2383665c04bc",
    "deepnote_to_be_reexecuted": false,
    "source_hash": "5d21f52a",
    "execution_start": 1629007914490,
    "execution_millis": 2124,
    "deepnote_cell_type": "code"
   },
   "source": "# RUN THIS IN ANOTHER TERMINAL\n!nohup tensorflow_model_server \\\n  --rest_api_port=8501 \\\n  --model_name=mnist_model \\\n  --model_base_path=\"${BASE_PATH}\" >server.log 2>&1",
   "execution_count": 15,
   "outputs": [
    {
     "name": "stdout",
     "text": "^C\r\n",
     "output_type": "stream"
    }
   ]
  },
  {
   "cell_type": "code",
   "metadata": {
    "cell_id": "00023-01e65d2f-e84a-4d0e-bf76-4e6dde74e468",
    "deepnote_to_be_reexecuted": false,
    "source_hash": "e48513e3",
    "execution_start": 1629008872087,
    "execution_millis": 648,
    "deepnote_cell_type": "code"
   },
   "source": "!tail server.log",
   "execution_count": 48,
   "outputs": [
    {
     "name": "stdout",
     "text": "2021-08-15 06:27:21.728784: I external/org_tensorflow/tensorflow/cc/saved_model/loader.cc:190] Running initialization op on SavedModel bundle at path: /work/tensorflow-serving/serving/1\r\n2021-08-15 06:27:21.733481: I external/org_tensorflow/tensorflow/cc/saved_model/loader.cc:277] SavedModel load for tags { serve }; Status: success: OK. Took 60671 microseconds.\r\n2021-08-15 06:27:21.734088: I tensorflow_serving/servables/tensorflow/saved_model_warmup_util.cc:59] No warmup data file found at /work/tensorflow-serving/serving/1/assets.extra/tf_serving_warmup_requests\r\n2021-08-15 06:27:21.735558: I tensorflow_serving/core/loader_harness.cc:87] Successfully loaded servable version {name: default version: 1}\r\n2021-08-15 06:27:21.736052: I tensorflow_serving/model_servers/server_core.cc:486] Finished adding/updating models\r\n2021-08-15 06:27:21.736099: I tensorflow_serving/model_servers/server.cc:367] Profiler service is enabled\r\n2021-08-15 06:27:21.737017: I tensorflow_serving/model_servers/server.cc:393] Running gRPC ModelServer at 0.0.0.0:8500 ...\r\n[warn] getaddrinfo: address family for nodename not supported\r\n[evhttp_server.cc : 245] NET_LOG: Entering the event loop ...\r\n2021-08-15 06:27:21.737505: I tensorflow_serving/model_servers/server.cc:414] Exporting HTTP/REST API at:localhost:8501 ...\r\n",
     "output_type": "stream"
    }
   ]
  },
  {
   "cell_type": "code",
   "metadata": {
    "cell_id": "00027-dc794e81-e512-4ea8-8598-54be8cad49bf",
    "deepnote_to_be_reexecuted": false,
    "source_hash": "7afa502b",
    "execution_start": 1629008859145,
    "execution_millis": 0,
    "deepnote_cell_type": "code"
   },
   "source": "import json\nimport requests",
   "execution_count": 44,
   "outputs": []
  },
  {
   "cell_type": "code",
   "metadata": {
    "cell_id": "00028-c0277848-53dd-47de-9823-2d98f8a36c58",
    "deepnote_to_be_reexecuted": false,
    "source_hash": "e259df8e",
    "execution_start": 1629008860459,
    "execution_millis": 9,
    "deepnote_cell_type": "code"
   },
   "source": "json_data = {\"signature_name\": \"serving_default\", \"instances\": x_test[0:3].tolist()}",
   "execution_count": 45,
   "outputs": []
  },
  {
   "cell_type": "code",
   "metadata": {
    "cell_id": "00029-6b56276e-2ed2-48a7-9e3a-5a211d57c2fd",
    "deepnote_to_be_reexecuted": false,
    "source_hash": "f5ba3ab3",
    "execution_start": 1629008865217,
    "execution_millis": 29,
    "deepnote_cell_type": "code"
   },
   "source": "headers = {\"content-type\": \"application/json\"}\njson_response = requests.post('http://localhost:8501/v1/models/mnist_model:predict', data=json_data, headers=headers)\n\npredictions = json.loads(json_response.text)['predictions']",
   "execution_count": 46,
   "outputs": [
    {
     "output_type": "error",
     "ename": "KeyError",
     "evalue": "'predictions'",
     "traceback": [
      "\u001b[0;31m---------------------------------------------------------------------------\u001b[0m",
      "\u001b[0;31mKeyError\u001b[0m                                  Traceback (most recent call last)",
      "\u001b[0;32m/tmp/ipykernel_73/1212209714.py\u001b[0m in \u001b[0;36m<module>\u001b[0;34m\u001b[0m\n\u001b[1;32m      2\u001b[0m \u001b[0mjson_response\u001b[0m \u001b[0;34m=\u001b[0m \u001b[0mrequests\u001b[0m\u001b[0;34m.\u001b[0m\u001b[0mpost\u001b[0m\u001b[0;34m(\u001b[0m\u001b[0;34m'http://localhost:8501/v1/models/mnist_model:predict'\u001b[0m\u001b[0;34m,\u001b[0m \u001b[0mdata\u001b[0m\u001b[0;34m=\u001b[0m\u001b[0mjson_data\u001b[0m\u001b[0;34m,\u001b[0m \u001b[0mheaders\u001b[0m\u001b[0;34m=\u001b[0m\u001b[0mheaders\u001b[0m\u001b[0;34m)\u001b[0m\u001b[0;34m\u001b[0m\u001b[0;34m\u001b[0m\u001b[0m\n\u001b[1;32m      3\u001b[0m \u001b[0;34m\u001b[0m\u001b[0m\n\u001b[0;32m----> 4\u001b[0;31m \u001b[0mpredictions\u001b[0m \u001b[0;34m=\u001b[0m \u001b[0mjson\u001b[0m\u001b[0;34m.\u001b[0m\u001b[0mloads\u001b[0m\u001b[0;34m(\u001b[0m\u001b[0mjson_response\u001b[0m\u001b[0;34m.\u001b[0m\u001b[0mtext\u001b[0m\u001b[0;34m)\u001b[0m\u001b[0;34m[\u001b[0m\u001b[0;34m'predictions'\u001b[0m\u001b[0;34m]\u001b[0m\u001b[0;34m\u001b[0m\u001b[0;34m\u001b[0m\u001b[0m\n\u001b[0m",
      "\u001b[0;31mKeyError\u001b[0m: 'predictions'"
     ]
    }
   ]
  },
  {
   "cell_type": "code",
   "metadata": {
    "cell_id": "00030-c0083f65-658f-499e-a3fc-26c4e44b39ad",
    "deepnote_to_be_reexecuted": false,
    "source_hash": "bde97482",
    "execution_start": 1629008868031,
    "execution_millis": 11,
    "deepnote_cell_type": "code"
   },
   "source": "json_response",
   "execution_count": 47,
   "outputs": [
    {
     "output_type": "execute_result",
     "execution_count": 47,
     "data": {
      "text/plain": "<Response [400]>"
     },
     "metadata": {}
    }
   ]
  },
  {
   "cell_type": "code",
   "metadata": {
    "cell_id": "00031-52500888-f5f6-4ac2-8492-7ac3ac9942b2",
    "deepnote_cell_type": "code"
   },
   "source": "",
   "execution_count": null,
   "outputs": []
  },
  {
   "cell_type": "markdown",
   "source": "<a style='text-decoration:none;line-height:16px;display:flex;color:#5B5B62;padding:10px;justify-content:end;' href='https://deepnote.com?utm_source=created-in-deepnote-cell&projectId=689f26ff-13bf-4496-9e46-e7b1ce7968de' target=\"_blank\">\n<img alt='Created in deepnote.com' style='display:inline;max-height:16px;margin:0px;margin-right:7.5px;' src='data:image/svg+xml;base64,PD94bWwgdmVyc2lvbj0iMS4wIiBlbmNvZGluZz0iVVRGLTgiPz4KPHN2ZyB3aWR0aD0iODBweCIgaGVpZ2h0PSI4MHB4IiB2aWV3Qm94PSIwIDAgODAgODAiIHZlcnNpb249IjEuMSIgeG1sbnM9Imh0dHA6Ly93d3cudzMub3JnLzIwMDAvc3ZnIiB4bWxuczp4bGluaz0iaHR0cDovL3d3dy53My5vcmcvMTk5OS94bGluayI+CiAgICA8IS0tIEdlbmVyYXRvcjogU2tldGNoIDU0LjEgKDc2NDkwKSAtIGh0dHBzOi8vc2tldGNoYXBwLmNvbSAtLT4KICAgIDx0aXRsZT5Hcm91cCAzPC90aXRsZT4KICAgIDxkZXNjPkNyZWF0ZWQgd2l0aCBTa2V0Y2guPC9kZXNjPgogICAgPGcgaWQ9IkxhbmRpbmciIHN0cm9rZT0ibm9uZSIgc3Ryb2tlLXdpZHRoPSIxIiBmaWxsPSJub25lIiBmaWxsLXJ1bGU9ImV2ZW5vZGQiPgogICAgICAgIDxnIGlkPSJBcnRib2FyZCIgdHJhbnNmb3JtPSJ0cmFuc2xhdGUoLTEyMzUuMDAwMDAwLCAtNzkuMDAwMDAwKSI+CiAgICAgICAgICAgIDxnIGlkPSJHcm91cC0zIiB0cmFuc2Zvcm09InRyYW5zbGF0ZSgxMjM1LjAwMDAwMCwgNzkuMDAwMDAwKSI+CiAgICAgICAgICAgICAgICA8cG9seWdvbiBpZD0iUGF0aC0yMCIgZmlsbD0iIzAyNjVCNCIgcG9pbnRzPSIyLjM3NjIzNzYyIDgwIDM4LjA0NzY2NjcgODAgNTcuODIxNzgyMiA3My44MDU3NTkyIDU3LjgyMTc4MjIgMzIuNzU5MjczOSAzOS4xNDAyMjc4IDMxLjY4MzE2ODMiPjwvcG9seWdvbj4KICAgICAgICAgICAgICAgIDxwYXRoIGQ9Ik0zNS4wMDc3MTgsODAgQzQyLjkwNjIwMDcsNzYuNDU0OTM1OCA0Ny41NjQ5MTY3LDcxLjU0MjI2NzEgNDguOTgzODY2LDY1LjI2MTk5MzkgQzUxLjExMjI4OTksNTUuODQxNTg0MiA0MS42NzcxNzk1LDQ5LjIxMjIyODQgMjUuNjIzOTg0Niw0OS4yMTIyMjg0IEMyNS40ODQ5Mjg5LDQ5LjEyNjg0NDggMjkuODI2MTI5Niw0My4yODM4MjQ4IDM4LjY0NzU4NjksMzEuNjgzMTY4MyBMNzIuODcxMjg3MSwzMi41NTQ0MjUgTDY1LjI4MDk3Myw2Ny42NzYzNDIxIEw1MS4xMTIyODk5LDc3LjM3NjE0NCBMMzUuMDA3NzE4LDgwIFoiIGlkPSJQYXRoLTIyIiBmaWxsPSIjMDAyODY4Ij48L3BhdGg+CiAgICAgICAgICAgICAgICA8cGF0aCBkPSJNMCwzNy43MzA0NDA1IEwyNy4xMTQ1MzcsMC4yNTcxMTE0MzYgQzYyLjM3MTUxMjMsLTEuOTkwNzE3MDEgODAsMTAuNTAwMzkyNyA4MCwzNy43MzA0NDA1IEM4MCw2NC45NjA0ODgyIDY0Ljc3NjUwMzgsNzkuMDUwMzQxNCAzNC4zMjk1MTEzLDgwIEM0Ny4wNTUzNDg5LDc3LjU2NzA4MDggNTMuNDE4MjY3Nyw3MC4zMTM2MTAzIDUzLjQxODI2NzcsNTguMjM5NTg4NSBDNTMuNDE4MjY3Nyw0MC4xMjg1NTU3IDM2LjMwMzk1NDQsMzcuNzMwNDQwNSAyNS4yMjc0MTcsMzcuNzMwNDQwNSBDMTcuODQzMDU4NiwzNy43MzA0NDA1IDkuNDMzOTE5NjYsMzcuNzMwNDQwNSAwLDM3LjczMDQ0MDUgWiIgaWQ9IlBhdGgtMTkiIGZpbGw9IiMzNzkzRUYiPjwvcGF0aD4KICAgICAgICAgICAgPC9nPgogICAgICAgIDwvZz4KICAgIDwvZz4KPC9zdmc+' > </img>\nCreated in <span style='font-weight:600;margin-left:4px;'>Deepnote</span></a>",
   "metadata": {
    "tags": [],
    "created_in_deepnote_cell": true,
    "deepnote_cell_type": "markdown"
   }
  }
 ],
 "nbformat": 4,
 "nbformat_minor": 4,
 "metadata": {
  "interpreter": {
   "hash": "5d638a7628cf7ca3de193d4112836a4f34d28eb3284549510cc26ae3985b3870"
  },
  "kernelspec": {
   "display_name": "Python 3.7.6 64-bit ('base': conda)",
   "language": "python",
   "name": "python376jvsc74a57bd05d638a7628cf7ca3de193d4112836a4f34d28eb3284549510cc26ae3985b3870"
  },
  "language_info": {
   "codemirror_mode": {
    "name": "ipython",
    "version": 3
   },
   "file_extension": ".py",
   "mimetype": "text/x-python",
   "name": "python",
   "nbconvert_exporter": "python",
   "pygments_lexer": "ipython3",
   "version": "3.7.6"
  },
  "deepnote_notebook_id": "1c8e13c4-f6c2-4269-a0f5-f9e5548e1ee9",
  "deepnote": {},
  "deepnote_execution_queue": []
 }
}
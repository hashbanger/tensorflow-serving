{
 "cells": [
  {
   "cell_type": "markdown",
   "metadata": {
    "cell_id": "00000-00bdd716-4346-41eb-9e3b-e32bd99eb23d",
    "deepnote_app_coordinates": {
     "h": 5,
     "w": 24,
     "x": 0,
     "y": 0
    },
    "deepnote_cell_type": "markdown",
    "tags": []
   },
   "source": [
    "# Serving Model with Tensorflow"
   ]
  },
  {
   "cell_type": "markdown",
   "metadata": {
    "cell_id": "00002-874b4ecd-f459-4f1e-b55b-05870b67ebec",
    "deepnote_app_coordinates": {
     "h": 5,
     "w": 24,
     "x": 0,
     "y": 0
    },
    "deepnote_cell_type": "markdown",
    "tags": []
   },
   "source": [
    "![image](https://images.unsplash.com/photo-1519881965905-ad3bc8c2ecce?ixlib=rb-1.2.1&ixid=MnwxMjA3fDB8MHxwaG90by1wYWdlfHx8fGVufDB8fHx8&auto=format&fit=crop&w=667&q=80)"
   ]
  },
  {
   "cell_type": "markdown",
   "metadata": {
    "cell_id": "00000-d86dbc72-d6cc-4ff4-95d1-b5b4050dba7a",
    "deepnote_app_coordinates": {
     "h": 5,
     "w": 24,
     "x": 0,
     "y": 0
    },
    "deepnote_cell_type": "markdown"
   },
   "source": [
    "### Hitting a request to the served model\n",
    "Before running this, \n",
    "- Create and save the model using `mnist-vanilla-cnn.ipynb`.  \n",
    "- Get the container up serving the model in detached mode using the docker compose command `docker-compose up -d`.\n",
    "- The equivalent run command is available in `serving-commands.txt`.\n",
    "- Run the cell below to post a inference request to the served model."
   ]
  },
  {
   "cell_type": "code",
   "execution_count": 1,
   "metadata": {
    "cell_id": "00001-f38796a2-d90c-4a1b-966a-6d97f0932298",
    "deepnote_app_coordinates": {
     "h": 5,
     "w": 24,
     "x": 0,
     "y": 6
    },
    "deepnote_cell_type": "code"
   },
   "outputs": [
    {
     "name": "stderr",
     "output_type": "stream",
     "text": [
      "2021-10-28 18:15:00.149247: W tensorflow/stream_executor/platform/default/dso_loader.cc:64] Could not load dynamic library 'libcudart.so.11.0'; dlerror: libcudart.so.11.0: cannot open shared object file: No such file or directory\n",
      "2021-10-28 18:15:00.149274: I tensorflow/stream_executor/cuda/cudart_stub.cc:29] Ignore above cudart dlerror if you do not have a GPU set up on your machine.\n"
     ]
    }
   ],
   "source": [
    "import os\n",
    "import json\n",
    "import requests\n",
    "import numpy as np\n",
    "import tensorflow as tf\n",
    "import matplotlib.pyplot as plt"
   ]
  },
  {
   "cell_type": "code",
   "execution_count": 2,
   "metadata": {
    "cell_id": "00002-c00c8504-8d78-4a21-85a3-6276aca1905a",
    "deepnote_app_coordinates": {
     "h": 5,
     "w": 24,
     "x": 0,
     "y": 12
    },
    "deepnote_cell_type": "code"
   },
   "outputs": [],
   "source": [
    "(_, _), (x_test, y_test) = tf.keras.datasets.mnist.load_data()\n",
    "x_test = x_test[..., np.newaxis]/255.0"
   ]
  },
  {
   "cell_type": "code",
   "execution_count": 28,
   "metadata": {
    "cell_id": "00003-ebe11862-994f-4955-97b6-df2e295d142c",
    "deepnote_app_coordinates": {
     "h": 5,
     "w": 24,
     "x": 0,
     "y": 18
    },
    "deepnote_cell_type": "code"
   },
   "outputs": [],
   "source": [
    "# picking up a random image from the test set for prediction\n",
    "IMG_NUM = np.random.randint(0, len(x_test))\n",
    "json_data = json.dumps({\"signature_name\": \"serving_default\", \"instances\": x_test[[IMG_NUM]].tolist()})"
   ]
  },
  {
   "cell_type": "code",
   "execution_count": 31,
   "metadata": {
    "cell_id": "00004-5801228f-2757-423b-8e38-36c6f46baf3a",
    "deepnote_app_coordinates": {
     "h": 5,
     "w": 24,
     "x": 0,
     "y": 24
    },
    "deepnote_cell_type": "code"
   },
   "outputs": [
    {
     "name": "stdout",
     "output_type": "stream",
     "text": [
      "The predicted result is  9\n"
     ]
    }
   ],
   "source": [
    "headers = {\"content-type\": \"application/json\"}\n",
    "json_response = requests.post('http://localhost:8501/v1/models/mnist_digit:predict', data=json_data, headers=headers)\n",
    "\n",
    "predictions = json.loads(json_response.text)['predictions']\n",
    "predictions = np.array(predictions).argmax()\n",
    "\n",
    "print('The predicted result is ',predictions)"
   ]
  },
  {
   "cell_type": "code",
   "execution_count": 32,
   "metadata": {
    "cell_id": "00005-7578a36c-055e-4ca9-af4a-42701417a20a",
    "deepnote_app_coordinates": {
     "h": 5,
     "w": 24,
     "x": 0,
     "y": 30
    },
    "deepnote_cell_type": "code"
   },
   "outputs": [
    {
     "name": "stdout",
     "output_type": "stream",
     "text": [
      "True Label:  9\n",
      "Predicted Label:  9\n"
     ]
    },
    {
     "data": {
      "image/png": "[encoded data removed]",
      "text/plain": [
       "<Figure size 432x288 with 1 Axes>"
      ]
     },
     "metadata": {
      "needs_background": "light"
     },
     "output_type": "display_data"
    }
   ],
   "source": [
    "print('True Label: ',y_test[IMG_NUM])\n",
    "print('Predicted Label: ',predictions)\n",
    "plt.imshow(x_test[IMG_NUM].reshape(28,28), cmap = 'gray');"
   ]
  },
  {
   "cell_type": "markdown",
   "metadata": {
    "cell_id": "00006-a762dcd4-0e88-4397-a1aa-9865268e4d16",
    "deepnote_app_coordinates": {
     "h": 5,
     "w": 24,
     "x": 0,
     "y": 36
    },
    "deepnote_cell_type": "markdown"
   },
   "source": [
    "We can post multiple requests as well.  \n",
    "Let's try with 5 images."
   ]
  },
  {
   "cell_type": "code",
   "execution_count": 33,
   "metadata": {
    "cell_id": "00007-c3879da7-a975-4bae-b932-bfaeb4bf821b",
    "deepnote_app_coordinates": {
     "h": 5,
     "w": 24,
     "x": 0,
     "y": 42
    },
    "deepnote_cell_type": "code"
   },
   "outputs": [
    {
     "name": "stderr",
     "output_type": "stream",
     "text": [
      "/tmp/ipykernel_252684/3726529862.py:3: FutureWarning: Using a non-tuple sequence for multidimensional indexing is deprecated; use `arr[tuple(seq)]` instead of `arr[seq]`. In the future this will be interpreted as an array index, `arr[np.array(seq)]`, which will result either in an error or a different result.\n",
      "  json_data = json.dumps({\"signature_name\": \"serving_default\", \"instances\": x_test[[IMG_NUM]].tolist()})\n"
     ]
    }
   ],
   "source": [
    "# picking up a random image from the test set for prediction\n",
    "IMG_NUM = np.random.randint(0, len(x_test), 5)\n",
    "json_data = json.dumps({\"signature_name\": \"serving_default\", \"instances\": x_test[[IMG_NUM]].tolist()})"
   ]
  },
  {
   "cell_type": "code",
   "execution_count": 34,
   "metadata": {
    "cell_id": "00008-92cd2c8a-a98f-4160-80a2-9bd035ed6f60",
    "deepnote_app_coordinates": {
     "h": 5,
     "w": 24,
     "x": 0,
     "y": 48
    },
    "deepnote_cell_type": "code"
   },
   "outputs": [
    {
     "name": "stdout",
     "output_type": "stream",
     "text": [
      "The label is  3\n",
      "The label is  2\n",
      "The label is  5\n",
      "The label is  9\n",
      "The label is  2\n"
     ]
    }
   ],
   "source": [
    "for idx in IMG_NUM:\n",
    "    label = y_test[idx]\n",
    "    print('The label is ', label)"
   ]
  },
  {
   "cell_type": "code",
   "execution_count": 35,
   "metadata": {
    "cell_id": "00009-8ee96293-903f-4309-b17f-f316b111ce29",
    "deepnote_app_coordinates": {
     "h": 5,
     "w": 24,
     "x": 0,
     "y": 54
    },
    "deepnote_cell_type": "code"
   },
   "outputs": [
    {
     "name": "stdout",
     "output_type": "stream",
     "text": [
      "The predicted result is  3\n",
      "The predicted result is  2\n",
      "The predicted result is  5\n",
      "The predicted result is  9\n",
      "The predicted result is  2\n"
     ]
    }
   ],
   "source": [
    "headers = {\"content-type\": \"application/json\"}\n",
    "json_response = requests.post('http://localhost:8501/v1/models/mnist_digit:predict', data=json_data, headers=headers)\n",
    "\n",
    "predictions = json.loads(json_response.text)['predictions']\n",
    "for pred in predictions:\n",
    "    prediction = np.array(pred).argmax()\n",
    "    print('The predicted result is ', prediction)"
   ]
  },
  {
   "cell_type": "markdown",
   "metadata": {
    "cell_id": "00010-c6b4ea57-8235-40ab-a869-4992d41ef30d",
    "deepnote_app_coordinates": {
     "h": 5,
     "w": 24,
     "x": 0,
     "y": 60
    },
    "deepnote_cell_type": "markdown"
   },
   "source": [
    "We can see that we are able to get it right with multiple predictions as well!"
   ]
  },
  {
   "cell_type": "markdown",
   "metadata": {
    "created_in_deepnote_cell": true,
    "deepnote_cell_type": "markdown",
    "tags": []
   },
   "source": [
    "<a style='text-decoration:none;line-height:16px;display:flex;color:#5B5B62;padding:10px;justify-content:end;' href='https://deepnote.com?utm_source=created-in-deepnote-cell&projectId=689f26ff-13bf-4496-9e46-e7b1ce7968de' target=\"_blank\">\n",
    "<img alt='Created in deepnote.com' style='display:inline;max-height:16px;margin:0px;margin-right:7.5px;' src='data:image/svg+xml;base64,PD94bWwgdmVyc2lvbj0iMS4wIiBlbmNvZGluZz0iVVRGLTgiPz4KPHN2ZyB3aWR0aD0iODBweCIgaGVpZ2h0PSI4MHB4IiB2aWV3Qm94PSIwIDAgODAgODAiIHZlcnNpb249IjEuMSIgeG1sbnM9Imh0dHA6Ly93d3cudzMub3JnLzIwMDAvc3ZnIiB4bWxuczp4bGluaz0iaHR0cDovL3d3dy53My5vcmcvMTk5OS94bGluayI+CiAgICA8IS0tIEdlbmVyYXRvcjogU2tldGNoIDU0LjEgKDc2NDkwKSAtIGh0dHBzOi8vc2tldGNoYXBwLmNvbSAtLT4KICAgIDx0aXRsZT5Hcm91cCAzPC90aXRsZT4KICAgIDxkZXNjPkNyZWF0ZWQgd2l0aCBTa2V0Y2guPC9kZXNjPgogICAgPGcgaWQ9IkxhbmRpbmciIHN0cm9rZT0ibm9uZSIgc3Ryb2tlLXdpZHRoPSIxIiBmaWxsPSJub25lIiBmaWxsLXJ1bGU9ImV2ZW5vZGQiPgogICAgICAgIDxnIGlkPSJBcnRib2FyZCIgdHJhbnNmb3JtPSJ0cmFuc2xhdGUoLTEyMzUuMDAwMDAwLCAtNzkuMDAwMDAwKSI+CiAgICAgICAgICAgIDxnIGlkPSJHcm91cC0zIiB0cmFuc2Zvcm09InRyYW5zbGF0ZSgxMjM1LjAwMDAwMCwgNzkuMDAwMDAwKSI+CiAgICAgICAgICAgICAgICA8cG9seWdvbiBpZD0iUGF0aC0yMCIgZmlsbD0iIzAyNjVCNCIgcG9pbnRzPSIyLjM3NjIzNzYyIDgwIDM4LjA0NzY2NjcgODAgNTcuODIxNzgyMiA3My44MDU3NTkyIDU3LjgyMTc4MjIgMzIuNzU5MjczOSAzOS4xNDAyMjc4IDMxLjY4MzE2ODMiPjwvcG9seWdvbj4KICAgICAgICAgICAgICAgIDxwYXRoIGQ9Ik0zNS4wMDc3MTgsODAgQzQyLjkwNjIwMDcsNzYuNDU0OTM1OCA0Ny41NjQ5MTY3LDcxLjU0MjI2NzEgNDguOTgzODY2LDY1LjI2MTk5MzkgQzUxLjExMjI4OTksNTUuODQxNTg0MiA0MS42NzcxNzk1LDQ5LjIxMjIyODQgMjUuNjIzOTg0Niw0OS4yMTIyMjg0IEMyNS40ODQ5Mjg5LDQ5LjEyNjg0NDggMjkuODI2MTI5Niw0My4yODM4MjQ4IDM4LjY0NzU4NjksMzEuNjgzMTY4MyBMNzIuODcxMjg3MSwzMi41NTQ0MjUgTDY1LjI4MDk3Myw2Ny42NzYzNDIxIEw1MS4xMTIyODk5LDc3LjM3NjE0NCBMMzUuMDA3NzE4LDgwIFoiIGlkPSJQYXRoLTIyIiBmaWxsPSIjMDAyODY4Ij48L3BhdGg+CiAgICAgICAgICAgICAgICA8cGF0aCBkPSJNMCwzNy43MzA0NDA1IEwyNy4xMTQ1MzcsMC4yNTcxMTE0MzYgQzYyLjM3MTUxMjMsLTEuOTkwNzE3MDEgODAsMTAuNTAwMzkyNyA4MCwzNy43MzA0NDA1IEM4MCw2NC45NjA0ODgyIDY0Ljc3NjUwMzgsNzkuMDUwMzQxNCAzNC4zMjk1MTEzLDgwIEM0Ny4wNTUzNDg5LDc3LjU2NzA4MDggNTMuNDE4MjY3Nyw3MC4zMTM2MTAzIDUzLjQxODI2NzcsNTguMjM5NTg4NSBDNTMuNDE4MjY3Nyw0MC4xMjg1NTU3IDM2LjMwMzk1NDQsMzcuNzMwNDQwNSAyNS4yMjc0MTcsMzcuNzMwNDQwNSBDMTcuODQzMDU4NiwzNy43MzA0NDA1IDkuNDMzOTE5NjYsMzcuNzMwNDQwNSAwLDM3LjczMDQ0MDUgWiIgaWQ9IlBhdGgtMTkiIGZpbGw9IiMzNzkzRUYiPjwvcGF0aD4KICAgICAgICAgICAgPC9nPgogICAgICAgIDwvZz4KICAgIDwvZz4KPC9zdmc+' > </img>\n",
    "Created in <span style='font-weight:600;margin-left:4px;'>Deepnote</span></a>"
   ]
  }
 ],
 "metadata": {
  "deepnote": {},
  "deepnote_app_layout": "article",
  "deepnote_execution_queue": [],
  "deepnote_notebook_id": "524580cc-a979-4b6b-b047-ea4882bbfec3",
  "interpreter": {
   "hash": "55d885780a862b3ad6d5598c62b50e98a116ca4ab5f24ebfb476797ac737400e"
  },
  "kernelspec": {
   "display_name": "Python 3 (ipykernel)",
   "language": "python",
   "name": "python3"
  },
  "language_info": {
   "codemirror_mode": {
    "name": "ipython",
    "version": 3
   },
   "file_extension": ".py",
   "mimetype": "text/x-python",
   "name": "python",
   "nbconvert_exporter": "python",
   "pygments_lexer": "ipython3",
   "version": "3.9.5"
  }
 },
 "nbformat": 4,
 "nbformat_minor": 4
}
